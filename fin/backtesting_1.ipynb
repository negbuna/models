{
  "nbformat": 4,
  "nbformat_minor": 0,
  "metadata": {
    "colab": {
      "provenance": [],
      "authorship_tag": "ABX9TyO/95ekOI6FrGqts/yxEBRX",
      "include_colab_link": true
    },
    "kernelspec": {
      "name": "python3",
      "display_name": "Python 3"
    },
    "language_info": {
      "name": "python"
    }
  },
  "cells": [
    {
      "cell_type": "markdown",
      "metadata": {
        "id": "view-in-github",
        "colab_type": "text"
      },
      "source": [
        "<a href=\"https://colab.research.google.com/github/negbuna/models/blob/main/backtesting_1.ipynb\" target=\"_parent\"><img src=\"https://colab.research.google.com/assets/colab-badge.svg\" alt=\"Open In Colab\"/></a>"
      ]
    },
    {
      "cell_type": "code",
      "execution_count": 1,
      "metadata": {
        "id": "KNQN4axiv6RQ"
      },
      "outputs": [],
      "source": [
        "!pip install yfinance --quiet"
      ]
    },
    {
      "cell_type": "code",
      "source": [
        "import yfinance as yf\n",
        "import pandas as pd\n",
        "import numpy as np\n",
        "import matplotlib.pyplot as plt\n",
        "import matplotlib.colors as mcolors\n",
        "import seaborn as sns\n",
        "from xgboost import XGBClassifier\n",
        "from sklearn.model_selection import train_test_split\n",
        "from sklearn.linear_model import LogisticRegression\n",
        "from sklearn.ensemble import RandomForestClassifier\n",
        "from sklearn.metrics import accuracy_score\n",
        "from sklearn.preprocessing import StandardScaler\n",
        "from sklearn.metrics import precision_score, recall_score, f1_score"
      ],
      "metadata": {
        "id": "8i77W8XNv_K9"
      },
      "execution_count": 2,
      "outputs": []
    },
    {
      "cell_type": "code",
      "source": [
        "sns.set_theme(style=\"darkgrid\")\n",
        "plt.style.use(\"dark_background\")"
      ],
      "metadata": {
        "id": "pdV1j1RSNwhG"
      },
      "execution_count": 3,
      "outputs": []
    },
    {
      "cell_type": "code",
      "source": [
        "df = yf.download(\"AAPL\", start=\"2022-01-01\", end=\"2023-01-01\")\n",
        "prices = df[\"Close\"]\n",
        "df.head()\n",
        "df.columns = ['_'.join(col).strip() if col[1] else col[0] for col in df.columns.values]\n",
        "\n",
        "ticker = 'AAPL'\n",
        "close = df[f'Close_{ticker}']\n",
        "volume = df[f'Volume_{ticker}']\n",
        "\n",
        "# 1. Bollinger bands (middle band)\n",
        "df['Bollinger_Mid'] = close.rolling(window=20).mean()\n",
        "\n",
        "# 2. RSI\n",
        "delta = close.diff()\n",
        "gain = delta.where(delta > 0, 0)\n",
        "loss = -delta.where(delta < 0, 0)\n",
        "avg_gain = gain.rolling(window=14).mean()\n",
        "avg_loss = loss.rolling(window=14).mean()\n",
        "rs = avg_gain / avg_loss\n",
        "df['RSI'] = 100 - (100 / (1 + rs))\n",
        "df['RSI'].fillna(0, inplace=True)\n",
        "\n",
        "# 3. MACD\n",
        "df['EMA_12'] = close.ewm(span=12, adjust=False).mean()\n",
        "df['EMA_26'] = close.ewm(span=26, adjust=False).mean()\n",
        "df['MACD'] = df['EMA_12'] - df['EMA_26']\n",
        "df['Signal_Line'] = df['MACD'].ewm(span=9, adjust=False).mean()\n",
        "\n",
        "# 4. On-Balance Volume\n",
        "df['OBV'] = np.where(\n",
        "    close > close.shift(1),\n",
        "    volume,\n",
        "    np.where(close < close.shift(1), -volume, 0)\n",
        ").cumsum()\n",
        "\n",
        "df.dropna(inplace=True)"
      ],
      "metadata": {
        "id": "KqBeKx1-wV_s",
        "colab": {
          "base_uri": "https://localhost:8080/"
        },
        "outputId": "36f857ec-8dff-4899-c186-0358bbbf6b46"
      },
      "execution_count": 4,
      "outputs": [
        {
          "output_type": "stream",
          "name": "stdout",
          "text": [
            "YF.download() has changed argument auto_adjust default to True\n"
          ]
        },
        {
          "output_type": "stream",
          "name": "stderr",
          "text": [
            "\r[*********************100%***********************]  1 of 1 completed\n",
            "<ipython-input-4-b9ceb9f800cf>:21: FutureWarning: A value is trying to be set on a copy of a DataFrame or Series through chained assignment using an inplace method.\n",
            "The behavior will change in pandas 3.0. This inplace method will never work because the intermediate object on which we are setting values always behaves as a copy.\n",
            "\n",
            "For example, when doing 'df[col].method(value, inplace=True)', try using 'df.method({col: value}, inplace=True)' or df[col] = df[col].method(value) instead, to perform the operation inplace on the original object.\n",
            "\n",
            "\n",
            "  df['RSI'].fillna(0, inplace=True)\n"
          ]
        }
      ]
    },
    {
      "cell_type": "code",
      "source": [
        "def simple_moving_average_strategy(prices, short_window=20, long_window=50):\n",
        "    short_ma = prices.rolling(short_window).mean()\n",
        "    long_ma = prices.rolling(long_window).mean()\n",
        "    signal = (short_ma > long_ma).astype(int)\n",
        "    return signal\n",
        "\n",
        "def run_backtest(prices, signals, initial_cash=10000):\n",
        "    position = 0\n",
        "    cash = initial_cash\n",
        "    portfolio_value = []\n",
        "\n",
        "    for price, signal in zip(prices.values, signals.values):\n",
        "        if signal == 1 and cash >= price:\n",
        "            position += 1\n",
        "            transaction_fee = 0.001 * price\n",
        "            cash -= price * position + transaction_fee\n",
        "        elif signal == 0 and position > 0:\n",
        "            transaction_fee = 0.001 * price\n",
        "            cash += price * position\n",
        "            position = 0\n",
        "        total_value = cash + position * price\n",
        "        portfolio_value.append(total_value)\n",
        "\n",
        "    return portfolio_value"
      ],
      "metadata": {
        "id": "v4t4PBYlvnWy"
      },
      "execution_count": 5,
      "outputs": []
    },
    {
      "cell_type": "code",
      "source": [
        "def stochastic_oscillator(df, period=14, ticker='AAPL'):\n",
        "    high = df[(f'High_{ticker}')]\n",
        "    low = df[(f'Low_{ticker}')]\n",
        "    close = df[(f'Close_{ticker}')]\n",
        "\n",
        "    high_roll = high.rolling(period).max()\n",
        "    low_roll = low.rolling(period).min()\n",
        "\n",
        "    # Calculate %K\n",
        "    percent_k = ((close - low_roll) * 100 / (high_roll - low_roll))\n",
        "    percent_d = percent_k.rolling(3).mean()\n",
        "\n",
        "    # Add back into the df (under a new level maybe)\n",
        "    df[('%K', ticker)] = percent_k\n",
        "    df[('%D', ticker)] = percent_d\n",
        "\n",
        "    return df[[('%K', ticker), ('%D', ticker)]]"
      ],
      "metadata": {
        "id": "Wil1F8AthkRk"
      },
      "execution_count": 23,
      "outputs": []
    },
    {
      "cell_type": "code",
      "source": [
        "def williams_r(df, ticker, period=14):\n",
        "    high = df[f'High_{ticker}']\n",
        "    low = df[f'Low_{ticker}']\n",
        "    close = df[f'Close_{ticker}']\n",
        "\n",
        "    highest_high = high.rolling(period).max()\n",
        "    lowest_low = low.rolling(period).min()\n",
        "\n",
        "    df[f'Williams_%R_{ticker}'] = -100 * (highest_high - close) / (highest_high - lowest_low)\n",
        "    return df"
      ],
      "metadata": {
        "id": "ZA5Z4bQGhttZ"
      },
      "execution_count": 7,
      "outputs": []
    },
    {
      "cell_type": "code",
      "source": [
        "def commodity_channel_index(df, ticker, period=20):\n",
        "    high = df[f'High_{ticker}']\n",
        "    low = df[f'Low_{ticker}']\n",
        "    close = df[f'Close_{ticker}']\n",
        "\n",
        "    tp = (high + low + close) / 3\n",
        "    mean_tp = tp.rolling(period).mean()\n",
        "    std_tp = tp.rolling(period).std()\n",
        "\n",
        "    df[f'CCI_{ticker}'] = (tp - mean_tp) / (0.015 * std_tp)\n",
        "    return df"
      ],
      "metadata": {
        "id": "9cK_mqWGhwVA"
      },
      "execution_count": 8,
      "outputs": []
    },
    {
      "cell_type": "code",
      "source": [
        "def money_flow_index(df, ticker, period=14):\n",
        "    high = df[f'High_{ticker}']\n",
        "    low = df[f'Low_{ticker}']\n",
        "    close = df[f'Close_{ticker}']\n",
        "    volume = df[f'Volume_{ticker}']\n",
        "\n",
        "    typical_price = (high + low + close) / 3\n",
        "    raw_money_flow = typical_price * volume\n",
        "\n",
        "    money_flow = np.where(typical_price > typical_price.shift(1), raw_money_flow, -raw_money_flow)\n",
        "    df['Money_Flow'] = money_flow\n",
        "\n",
        "    pos_flow = pd.Series(money_flow).where(money_flow > 0, 0).rolling(period).sum()\n",
        "    neg_flow = pd.Series(money_flow).where(money_flow < 0, 0).rolling(period).sum().abs()\n",
        "\n",
        "    money_flow_ratio = pos_flow / neg_flow\n",
        "    df[f'MFI_{ticker}'] = 100 - (100 / (1 + money_flow_ratio))\n",
        "    return df.drop(columns='Money_Flow')"
      ],
      "metadata": {
        "id": "Lvle4iumhxBH"
      },
      "execution_count": 9,
      "outputs": []
    },
    {
      "cell_type": "code",
      "source": [
        "def average_directional_index(df, ticker, period=14):\n",
        "    high = df[f'High_{ticker}']\n",
        "    low = df[f'Low_{ticker}']\n",
        "    close = df[f'Close_{ticker}']\n",
        "\n",
        "    up_move = high.diff()\n",
        "    down_move = -low.diff()\n",
        "\n",
        "    plus_dm = np.where((up_move > down_move) & (up_move > 0), up_move, 0)\n",
        "    minus_dm = np.where((down_move > up_move) & (down_move > 0), down_move, 0)\n",
        "\n",
        "    tr = pd.concat([high - low, (high - close.shift(1)).abs(), (low - close.shift(1)).abs()], axis=1).max(axis=1)\n",
        "\n",
        "    atr = tr.rolling(period).mean()\n",
        "\n",
        "    plus_di = 100 * pd.Series(plus_dm).ewm(alpha=1 / period, adjust=False).mean() / atr\n",
        "    minus_di = 100 * pd.Series(minus_dm).ewm(alpha=1 / period, adjust=False).mean() / atr\n",
        "\n",
        "    dx = 100 * (plus_di - minus_di).abs() / (plus_di + minus_di)\n",
        "    adx = dx.ewm(alpha=1 / period, adjust=False).mean()"
      ],
      "metadata": {
        "id": "BpMOe8Mehx9_"
      },
      "execution_count": 10,
      "outputs": []
    },
    {
      "cell_type": "code",
      "source": [
        "def generate_signals(df):\n",
        "    df['Signal'] = 0.0  # Initialize signal column to 0 (hold)\n",
        "    df.loc[((df['%K'] > df['%D']) & (df['%K'] < 20) & (df['%D'] < 20)), 'Signal'] = 1.0  # Buy signal\n",
        "    df.loc[((df['%K'] < df['%D']) & (df['%K'] > 80) & (df['%D'] > 80)), 'Signal'] = -1.0 # Sell signal\n",
        "    return df\n",
        "\n",
        "# 2. Backtest the Strategy\n",
        "def backtest_strategy(df, initial_cash=10000, ticker='AAPL'):\n",
        "    position = 0\n",
        "    cash = initial_cash\n",
        "    portfolio_value = []\n",
        "\n",
        "    for index, row in df.iterrows():\n",
        "        price = row[f'Close_{ticker}']\n",
        "        signal = row['Signal']\n",
        "\n",
        "        if signal == 1 and cash >= price:  # Buy\n",
        "            position += 1\n",
        "            cash -= price\n",
        "        elif signal == -1 and position > 0:  # Sell\n",
        "            cash += price * position\n",
        "            position = 0\n",
        "\n",
        "        portfolio_value.append(cash + position * price)\n",
        "\n",
        "    return portfolio_value"
      ],
      "metadata": {
        "id": "_yX8CrcBvua9"
      },
      "execution_count": 15,
      "outputs": []
    },
    {
      "cell_type": "code",
      "source": [
        "def calculate_sharpe_ratio(portfolio_values, risk_free_rate=0.0):\n",
        "    daily_returns = pd.Series(portfolio_values).pct_change()\n",
        "    excess_returns = daily_returns - risk_free_rate\n",
        "    sharpe_ratio = np.sqrt(252) * excess_returns.mean() / excess_returns.std()\n",
        "    return sharpe_ratio\n",
        "\n",
        "portfolio_values = run_backtest(prices, signals)\n",
        "sharpe_ratio = calculate_sharpe_ratio(portfolio_values)\n",
        "print(f\"Sharpe Ratio: {sharpe_ratio}\")"
      ],
      "metadata": {
        "id": "My11iy_2B39D"
      },
      "execution_count": null,
      "outputs": []
    },
    {
      "cell_type": "code",
      "source": [],
      "metadata": {
        "id": "IEOSSLI1EvDa"
      },
      "execution_count": null,
      "outputs": []
    },
    {
      "cell_type": "code",
      "source": [
        "df = stochastic_oscillator(df, ticker='AAPL')\n",
        "generate_signals(df)\n",
        "port_vals = backtest_strategy(df)\n",
        "dates = df.index\n",
        "\n",
        "plt.plot(dates, portfolio_values)\n",
        "plt.title('Portfolio Value Over Time')\n",
        "plt.xlabel('Date')\n",
        "plt.ylabel('Portfolio Value')\n",
        "plt.grid(True)  # Add a grid for better readability\n",
        "plt.show()"
      ],
      "metadata": {
        "colab": {
          "base_uri": "https://localhost:8080/",
          "height": 659
        },
        "id": "1FeffDE4Dvoc",
        "outputId": "52e32a13-6c41-4367-ecfd-8f6a86b426c2"
      },
      "execution_count": 24,
      "outputs": [
        {
          "output_type": "stream",
          "name": "stderr",
          "text": [
            "<ipython-input-15-e001da7b3576>:2: SettingWithCopyWarning: \n",
            "A value is trying to be set on a copy of a slice from a DataFrame.\n",
            "Try using .loc[row_indexer,col_indexer] = value instead\n",
            "\n",
            "See the caveats in the documentation: https://pandas.pydata.org/pandas-docs/stable/user_guide/indexing.html#returning-a-view-versus-a-copy\n",
            "  df['Signal'] = 0.0  # Initialize signal column to 0 (hold)\n"
          ]
        },
        {
          "output_type": "error",
          "ename": "KeyError",
          "evalue": "'%K'",
          "traceback": [
            "\u001b[0;31m---------------------------------------------------------------------------\u001b[0m",
            "\u001b[0;31mKeyError\u001b[0m                                  Traceback (most recent call last)",
            "\u001b[0;32m/usr/local/lib/python3.11/dist-packages/pandas/core/indexes/base.py\u001b[0m in \u001b[0;36mget_loc\u001b[0;34m(self, key)\u001b[0m\n\u001b[1;32m   3804\u001b[0m         \u001b[0;32mtry\u001b[0m\u001b[0;34m:\u001b[0m\u001b[0;34m\u001b[0m\u001b[0;34m\u001b[0m\u001b[0m\n\u001b[0;32m-> 3805\u001b[0;31m             \u001b[0;32mreturn\u001b[0m \u001b[0mself\u001b[0m\u001b[0;34m.\u001b[0m\u001b[0m_engine\u001b[0m\u001b[0;34m.\u001b[0m\u001b[0mget_loc\u001b[0m\u001b[0;34m(\u001b[0m\u001b[0mcasted_key\u001b[0m\u001b[0;34m)\u001b[0m\u001b[0;34m\u001b[0m\u001b[0;34m\u001b[0m\u001b[0m\n\u001b[0m\u001b[1;32m   3806\u001b[0m         \u001b[0;32mexcept\u001b[0m \u001b[0mKeyError\u001b[0m \u001b[0;32mas\u001b[0m \u001b[0merr\u001b[0m\u001b[0;34m:\u001b[0m\u001b[0;34m\u001b[0m\u001b[0;34m\u001b[0m\u001b[0m\n",
            "\u001b[0;32mindex.pyx\u001b[0m in \u001b[0;36mpandas._libs.index.IndexEngine.get_loc\u001b[0;34m()\u001b[0m\n",
            "\u001b[0;32mindex.pyx\u001b[0m in \u001b[0;36mpandas._libs.index.IndexEngine.get_loc\u001b[0;34m()\u001b[0m\n",
            "\u001b[0;32mpandas/_libs/hashtable_class_helper.pxi\u001b[0m in \u001b[0;36mpandas._libs.hashtable.PyObjectHashTable.get_item\u001b[0;34m()\u001b[0m\n",
            "\u001b[0;32mpandas/_libs/hashtable_class_helper.pxi\u001b[0m in \u001b[0;36mpandas._libs.hashtable.PyObjectHashTable.get_item\u001b[0;34m()\u001b[0m\n",
            "\u001b[0;31mKeyError\u001b[0m: '%K'",
            "\nThe above exception was the direct cause of the following exception:\n",
            "\u001b[0;31mKeyError\u001b[0m                                  Traceback (most recent call last)",
            "\u001b[0;32m<ipython-input-24-15bdc54951b1>\u001b[0m in \u001b[0;36m<cell line: 0>\u001b[0;34m()\u001b[0m\n\u001b[1;32m      1\u001b[0m \u001b[0mdf\u001b[0m \u001b[0;34m=\u001b[0m \u001b[0mstochastic_oscillator\u001b[0m\u001b[0;34m(\u001b[0m\u001b[0mdf\u001b[0m\u001b[0;34m,\u001b[0m \u001b[0mticker\u001b[0m\u001b[0;34m=\u001b[0m\u001b[0;34m'AAPL'\u001b[0m\u001b[0;34m)\u001b[0m\u001b[0;34m\u001b[0m\u001b[0;34m\u001b[0m\u001b[0m\n\u001b[0;32m----> 2\u001b[0;31m \u001b[0mgenerate_signals\u001b[0m\u001b[0;34m(\u001b[0m\u001b[0mdf\u001b[0m\u001b[0;34m)\u001b[0m\u001b[0;34m\u001b[0m\u001b[0;34m\u001b[0m\u001b[0m\n\u001b[0m\u001b[1;32m      3\u001b[0m \u001b[0mport_vals\u001b[0m \u001b[0;34m=\u001b[0m \u001b[0mbacktest_strategy\u001b[0m\u001b[0;34m(\u001b[0m\u001b[0mdf\u001b[0m\u001b[0;34m)\u001b[0m\u001b[0;34m\u001b[0m\u001b[0;34m\u001b[0m\u001b[0m\n\u001b[1;32m      4\u001b[0m \u001b[0mdates\u001b[0m \u001b[0;34m=\u001b[0m \u001b[0mdf\u001b[0m\u001b[0;34m.\u001b[0m\u001b[0mindex\u001b[0m\u001b[0;34m\u001b[0m\u001b[0;34m\u001b[0m\u001b[0m\n\u001b[1;32m      5\u001b[0m \u001b[0;34m\u001b[0m\u001b[0m\n",
            "\u001b[0;32m<ipython-input-15-e001da7b3576>\u001b[0m in \u001b[0;36mgenerate_signals\u001b[0;34m(df)\u001b[0m\n\u001b[1;32m      1\u001b[0m \u001b[0;32mdef\u001b[0m \u001b[0mgenerate_signals\u001b[0m\u001b[0;34m(\u001b[0m\u001b[0mdf\u001b[0m\u001b[0;34m)\u001b[0m\u001b[0;34m:\u001b[0m\u001b[0;34m\u001b[0m\u001b[0;34m\u001b[0m\u001b[0m\n\u001b[1;32m      2\u001b[0m     \u001b[0mdf\u001b[0m\u001b[0;34m[\u001b[0m\u001b[0;34m'Signal'\u001b[0m\u001b[0;34m]\u001b[0m \u001b[0;34m=\u001b[0m \u001b[0;36m0.0\u001b[0m  \u001b[0;31m# Initialize signal column to 0 (hold)\u001b[0m\u001b[0;34m\u001b[0m\u001b[0;34m\u001b[0m\u001b[0m\n\u001b[0;32m----> 3\u001b[0;31m     \u001b[0mdf\u001b[0m\u001b[0;34m.\u001b[0m\u001b[0mloc\u001b[0m\u001b[0;34m[\u001b[0m\u001b[0;34m(\u001b[0m\u001b[0;34m(\u001b[0m\u001b[0mdf\u001b[0m\u001b[0;34m[\u001b[0m\u001b[0;34m'%K'\u001b[0m\u001b[0;34m]\u001b[0m \u001b[0;34m>\u001b[0m \u001b[0mdf\u001b[0m\u001b[0;34m[\u001b[0m\u001b[0;34m'%D'\u001b[0m\u001b[0;34m]\u001b[0m\u001b[0;34m)\u001b[0m \u001b[0;34m&\u001b[0m \u001b[0;34m(\u001b[0m\u001b[0mdf\u001b[0m\u001b[0;34m[\u001b[0m\u001b[0;34m'%K'\u001b[0m\u001b[0;34m]\u001b[0m \u001b[0;34m<\u001b[0m \u001b[0;36m20\u001b[0m\u001b[0;34m)\u001b[0m \u001b[0;34m&\u001b[0m \u001b[0;34m(\u001b[0m\u001b[0mdf\u001b[0m\u001b[0;34m[\u001b[0m\u001b[0;34m'%D'\u001b[0m\u001b[0;34m]\u001b[0m \u001b[0;34m<\u001b[0m \u001b[0;36m20\u001b[0m\u001b[0;34m)\u001b[0m\u001b[0;34m)\u001b[0m\u001b[0;34m,\u001b[0m \u001b[0;34m'Signal'\u001b[0m\u001b[0;34m]\u001b[0m \u001b[0;34m=\u001b[0m \u001b[0;36m1.0\u001b[0m  \u001b[0;31m# Buy signal\u001b[0m\u001b[0;34m\u001b[0m\u001b[0;34m\u001b[0m\u001b[0m\n\u001b[0m\u001b[1;32m      4\u001b[0m     \u001b[0mdf\u001b[0m\u001b[0;34m.\u001b[0m\u001b[0mloc\u001b[0m\u001b[0;34m[\u001b[0m\u001b[0;34m(\u001b[0m\u001b[0;34m(\u001b[0m\u001b[0mdf\u001b[0m\u001b[0;34m[\u001b[0m\u001b[0;34m'%K'\u001b[0m\u001b[0;34m]\u001b[0m \u001b[0;34m<\u001b[0m \u001b[0mdf\u001b[0m\u001b[0;34m[\u001b[0m\u001b[0;34m'%D'\u001b[0m\u001b[0;34m]\u001b[0m\u001b[0;34m)\u001b[0m \u001b[0;34m&\u001b[0m \u001b[0;34m(\u001b[0m\u001b[0mdf\u001b[0m\u001b[0;34m[\u001b[0m\u001b[0;34m'%K'\u001b[0m\u001b[0;34m]\u001b[0m \u001b[0;34m>\u001b[0m \u001b[0;36m80\u001b[0m\u001b[0;34m)\u001b[0m \u001b[0;34m&\u001b[0m \u001b[0;34m(\u001b[0m\u001b[0mdf\u001b[0m\u001b[0;34m[\u001b[0m\u001b[0;34m'%D'\u001b[0m\u001b[0;34m]\u001b[0m \u001b[0;34m>\u001b[0m \u001b[0;36m80\u001b[0m\u001b[0;34m)\u001b[0m\u001b[0;34m)\u001b[0m\u001b[0;34m,\u001b[0m \u001b[0;34m'Signal'\u001b[0m\u001b[0;34m]\u001b[0m \u001b[0;34m=\u001b[0m \u001b[0;34m-\u001b[0m\u001b[0;36m1.0\u001b[0m \u001b[0;31m# Sell signal\u001b[0m\u001b[0;34m\u001b[0m\u001b[0;34m\u001b[0m\u001b[0m\n\u001b[1;32m      5\u001b[0m     \u001b[0;32mreturn\u001b[0m \u001b[0mdf\u001b[0m\u001b[0;34m\u001b[0m\u001b[0;34m\u001b[0m\u001b[0m\n",
            "\u001b[0;32m/usr/local/lib/python3.11/dist-packages/pandas/core/frame.py\u001b[0m in \u001b[0;36m__getitem__\u001b[0;34m(self, key)\u001b[0m\n\u001b[1;32m   4100\u001b[0m             \u001b[0;32mif\u001b[0m \u001b[0mself\u001b[0m\u001b[0;34m.\u001b[0m\u001b[0mcolumns\u001b[0m\u001b[0;34m.\u001b[0m\u001b[0mnlevels\u001b[0m \u001b[0;34m>\u001b[0m \u001b[0;36m1\u001b[0m\u001b[0;34m:\u001b[0m\u001b[0;34m\u001b[0m\u001b[0;34m\u001b[0m\u001b[0m\n\u001b[1;32m   4101\u001b[0m                 \u001b[0;32mreturn\u001b[0m \u001b[0mself\u001b[0m\u001b[0;34m.\u001b[0m\u001b[0m_getitem_multilevel\u001b[0m\u001b[0;34m(\u001b[0m\u001b[0mkey\u001b[0m\u001b[0;34m)\u001b[0m\u001b[0;34m\u001b[0m\u001b[0;34m\u001b[0m\u001b[0m\n\u001b[0;32m-> 4102\u001b[0;31m             \u001b[0mindexer\u001b[0m \u001b[0;34m=\u001b[0m \u001b[0mself\u001b[0m\u001b[0;34m.\u001b[0m\u001b[0mcolumns\u001b[0m\u001b[0;34m.\u001b[0m\u001b[0mget_loc\u001b[0m\u001b[0;34m(\u001b[0m\u001b[0mkey\u001b[0m\u001b[0;34m)\u001b[0m\u001b[0;34m\u001b[0m\u001b[0;34m\u001b[0m\u001b[0m\n\u001b[0m\u001b[1;32m   4103\u001b[0m             \u001b[0;32mif\u001b[0m \u001b[0mis_integer\u001b[0m\u001b[0;34m(\u001b[0m\u001b[0mindexer\u001b[0m\u001b[0;34m)\u001b[0m\u001b[0;34m:\u001b[0m\u001b[0;34m\u001b[0m\u001b[0;34m\u001b[0m\u001b[0m\n\u001b[1;32m   4104\u001b[0m                 \u001b[0mindexer\u001b[0m \u001b[0;34m=\u001b[0m \u001b[0;34m[\u001b[0m\u001b[0mindexer\u001b[0m\u001b[0;34m]\u001b[0m\u001b[0;34m\u001b[0m\u001b[0;34m\u001b[0m\u001b[0m\n",
            "\u001b[0;32m/usr/local/lib/python3.11/dist-packages/pandas/core/indexes/base.py\u001b[0m in \u001b[0;36mget_loc\u001b[0;34m(self, key)\u001b[0m\n\u001b[1;32m   3810\u001b[0m             ):\n\u001b[1;32m   3811\u001b[0m                 \u001b[0;32mraise\u001b[0m \u001b[0mInvalidIndexError\u001b[0m\u001b[0;34m(\u001b[0m\u001b[0mkey\u001b[0m\u001b[0;34m)\u001b[0m\u001b[0;34m\u001b[0m\u001b[0;34m\u001b[0m\u001b[0m\n\u001b[0;32m-> 3812\u001b[0;31m             \u001b[0;32mraise\u001b[0m \u001b[0mKeyError\u001b[0m\u001b[0;34m(\u001b[0m\u001b[0mkey\u001b[0m\u001b[0;34m)\u001b[0m \u001b[0;32mfrom\u001b[0m \u001b[0merr\u001b[0m\u001b[0;34m\u001b[0m\u001b[0;34m\u001b[0m\u001b[0m\n\u001b[0m\u001b[1;32m   3813\u001b[0m         \u001b[0;32mexcept\u001b[0m \u001b[0mTypeError\u001b[0m\u001b[0;34m:\u001b[0m\u001b[0;34m\u001b[0m\u001b[0;34m\u001b[0m\u001b[0m\n\u001b[1;32m   3814\u001b[0m             \u001b[0;31m# If we have a listlike key, _check_indexing_error will raise\u001b[0m\u001b[0;34m\u001b[0m\u001b[0;34m\u001b[0m\u001b[0m\n",
            "\u001b[0;31mKeyError\u001b[0m: '%K'"
          ]
        }
      ]
    }
  ]
}